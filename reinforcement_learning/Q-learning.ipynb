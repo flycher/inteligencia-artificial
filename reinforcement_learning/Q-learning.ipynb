{
 "cells": [
  {
   "cell_type": "code",
   "execution_count": 80,
   "metadata": {},
   "outputs": [],
   "source": [
    "import numpy as np \n",
    "import pylab as pl \n",
    "import networkx as nx"
   ]
  },
  {
   "cell_type": "code",
   "execution_count": 81,
   "metadata": {},
   "outputs": [
    {
     "data": {
      "image/png": "[encoded data removed]",
      "text/plain": [
       "<Figure size 432x288 with 1 Axes>"
      ]
     },
     "metadata": {},
     "output_type": "display_data"
    }
   ],
   "source": [
    "edges = [(0, 1), (1, 5), (5, 6), (5, 4), (1, 2),  \n",
    "         (1, 3), (9, 10), (2, 4), (0, 6), (6, 7), \n",
    "         (8, 9), (7, 8), (1, 7), (3, 9)] \n",
    "  \n",
    "goal = 10\n",
    "G = nx.Graph() \n",
    "G.add_edges_from(edges) \n",
    "pos = nx.spring_layout(G) \n",
    "nx.draw_networkx_nodes(G, pos) \n",
    "nx.draw_networkx_edges(G, pos) \n",
    "nx.draw_networkx_labels(G, pos) \n",
    "pl.show() "
   ]
  },
  {
   "cell_type": "code",
   "execution_count": 82,
   "metadata": {},
   "outputs": [
    {
     "name": "stdout",
     "output_type": "stream",
     "text": [
      "(0, 1)\n",
      "(1, 5)\n",
      "(5, 6)\n",
      "(5, 4)\n",
      "(1, 2)\n",
      "(1, 3)\n",
      "(9, 10)\n",
      "(2, 4)\n",
      "(0, 6)\n",
      "(6, 7)\n",
      "(8, 9)\n",
      "(7, 8)\n",
      "(1, 7)\n",
      "(3, 9)\n",
      "[[ -1.   0.  -1.  -1.  -1.  -1.   0.  -1.  -1.  -1.  -1.]\n",
      " [  0.  -1.   0.   0.  -1.   0.  -1.   0.  -1.  -1.  -1.]\n",
      " [ -1.   0.  -1.  -1.   0.  -1.  -1.  -1.  -1.  -1.  -1.]\n",
      " [ -1.   0.  -1.  -1.  -1.  -1.  -1.  -1.  -1.   0.  -1.]\n",
      " [ -1.  -1.   0.  -1.  -1.   0.  -1.  -1.  -1.  -1.  -1.]\n",
      " [ -1.   0.  -1.  -1.   0.  -1.   0.  -1.  -1.  -1.  -1.]\n",
      " [  0.  -1.  -1.  -1.  -1.   0.  -1.   0.  -1.  -1.  -1.]\n",
      " [ -1.   0.  -1.  -1.  -1.  -1.   0.  -1.   0.  -1.  -1.]\n",
      " [ -1.  -1.  -1.  -1.  -1.  -1.  -1.   0.  -1.   0.  -1.]\n",
      " [ -1.  -1.  -1.   0.  -1.  -1.  -1.  -1.   0.  -1. 100.]\n",
      " [ -1.  -1.  -1.  -1.  -1.  -1.  -1.  -1.  -1.   0. 100.]]\n"
     ]
    }
   ],
   "source": [
    "MATRIX_SIZE = 11\n",
    "M = np.matrix(np.ones(shape =(MATRIX_SIZE, MATRIX_SIZE))) \n",
    "M *= -1\n",
    "\n",
    "for point in edges: \n",
    "    print(point) \n",
    "    if point[1] == goal: \n",
    "        M[point] = 100\n",
    "    else: \n",
    "        M[point] = 0\n",
    "\n",
    "    if point[0] == goal: \n",
    "        M[point[::-1]] = 100\n",
    "    else: \n",
    "        M[point[::-1]]= 0\n",
    "        # reverse of point \n",
    "\n",
    "M[goal, goal]= 100\n",
    "print(M) \n",
    "# add goal point round trip \n"
   ]
  },
  {
   "cell_type": "code",
   "execution_count": 83,
   "metadata": {},
   "outputs": [
    {
     "data": {
      "text/plain": [
       "0"
      ]
     },
     "execution_count": 83,
     "metadata": {},
     "output_type": "execute_result"
    }
   ],
   "source": [
    "Q = np.matrix(np.zeros([MATRIX_SIZE, MATRIX_SIZE])) \n",
    "\n",
    "gamma = 0.75\n",
    "# learning parameter \n",
    "initial_state = 1\n",
    "\n",
    "# Determines the available actions for a given state \n",
    "def available_actions(state): \n",
    "    current_state_row = M[state, ] \n",
    "    available_action = np.where(current_state_row >= 0)[1] \n",
    "    return available_action \n",
    "\n",
    "available_action = available_actions(initial_state) \n",
    "\n",
    "# Chooses one of the available actions at random \n",
    "def sample_next_action(available_actions_range): \n",
    "    next_action = int(np.random.choice(available_action, 1)) \n",
    "    return next_action \n",
    "\n",
    "\n",
    "action = sample_next_action(available_action) \n",
    "\n",
    "def update(current_state, action, gamma): \n",
    "\n",
    "    max_index = np.where(Q[action, ] == np.max(Q[action, ]))[1] \n",
    "    if max_index.shape[0] > 1: \n",
    "        max_index = int(np.random.choice(max_index, size = 1)) \n",
    "    else: \n",
    "        max_index = int(max_index) \n",
    "    max_value = Q[action, max_index] \n",
    "    Q[current_state, action] = M[current_state, action] + gamma * max_value \n",
    "    if (np.max(Q) > 0): \n",
    "        return(np.sum(Q / np.max(Q)*100)) \n",
    "    else: \n",
    "        return (0) \n",
    "# Updates the Q-Matrix according to the path chosen \n",
    "\n",
    "update(initial_state, action, gamma) \n"
   ]
  },
  {
   "cell_type": "code",
   "execution_count": 84,
   "metadata": {},
   "outputs": [
    {
     "name": "stdout",
     "output_type": "stream",
     "text": [
      "Most efficient path:\n",
      "[0, 1, 3, 9, 10]\n"
     ]
    },
    {
     "data": {
      "image/png": "[encoded data removed]",
      "text/plain": [
       "<Figure size 432x288 with 1 Axes>"
      ]
     },
     "metadata": {
      "needs_background": "light"
     },
     "output_type": "display_data"
    }
   ],
   "source": [
    "scores = [] \n",
    "for i in range(1000): \n",
    "    current_state = np.random.randint(0, int(Q.shape[0])) \n",
    "    available_action = available_actions(current_state) \n",
    "    action = sample_next_action(available_action) \n",
    "    score = update(current_state, action, gamma) \n",
    "    scores.append(score) \n",
    "\n",
    "# print(\"Trained Q matrix:\") \n",
    "# print(Q / np.max(Q)*100) \n",
    "# You can uncomment the above two lines to view the trained Q matrix \n",
    "\n",
    "# Testing \n",
    "current_state = 0\n",
    "steps = [current_state] \n",
    "\n",
    "while current_state != 10: \n",
    "\n",
    "    next_step_index = np.where(Q[current_state, ] == np.max(Q[current_state, ]))[1] \n",
    "    if next_step_index.shape[0] > 1: \n",
    "        next_step_index = int(np.random.choice(next_step_index, size = 1)) \n",
    "    else: \n",
    "        next_step_index = int(next_step_index) \n",
    "    steps.append(next_step_index) \n",
    "    current_state = next_step_index \n",
    "\n",
    "print(\"Most efficient path:\") \n",
    "print(steps) \n",
    "\n",
    "pl.plot(scores) \n",
    "pl.xlabel('No of iterations') \n",
    "pl.ylabel('Reward gained') \n",
    "pl.show() \n"
   ]
  },
  {
   "cell_type": "code",
   "execution_count": 85,
   "metadata": {},
   "outputs": [
    {
     "data": {
      "image/png": "[encoded data removed]",
      "text/plain": [
       "<Figure size 432x288 with 1 Axes>"
      ]
     },
     "metadata": {},
     "output_type": "display_data"
    }
   ],
   "source": [
    "# Defining the locations of the police and the drug traces \n",
    "police = [2, 4, 5] \n",
    "drug_traces = [3, 8, 9] \n",
    "\n",
    "G = nx.Graph() \n",
    "G.add_edges_from(edges) \n",
    "mapping = {0:'0 - Detective', 1:'1', 2:'2 - Police', 3:'3 - Drug traces', \n",
    "        4:'4 - Police', 5:'5 - Police', 6:'6', 7:'7', 8:'Drug traces', \n",
    "        9:'9 - Drug traces', 10:'10 - Drug racket location'} \n",
    "\n",
    "H = nx.relabel_nodes(G, mapping) \n",
    "pos = nx.spring_layout(H) \n",
    "nx.draw_networkx_nodes(H, pos, node_size =[200, 200, 200, 200, 200, 200, 200, 200]) \n",
    "nx.draw_networkx_edges(H, pos) \n",
    "nx.draw_networkx_labels(H, pos) \n",
    "pl.show() \n"
   ]
  },
  {
   "cell_type": "code",
   "execution_count": 86,
   "metadata": {},
   "outputs": [],
   "source": [
    "Q = np.matrix(np.zeros([MATRIX_SIZE, MATRIX_SIZE])) \n",
    "env_police = np.matrix(np.zeros([MATRIX_SIZE, MATRIX_SIZE])) \n",
    "env_drugs = np.matrix(np.zeros([MATRIX_SIZE, MATRIX_SIZE])) \n",
    "initial_state = 1\n",
    "\n",
    "# Same as above \n",
    "def available_actions(state): \n",
    "    current_state_row = M[state, ] \n",
    "    av_action = np.where(current_state_row >= 0)[1] \n",
    "    return av_action \n",
    "\n",
    "# Same as above \n",
    "def sample_next_action(available_actions_range): \n",
    "    next_action = int(np.random.choice(available_action, 1)) \n",
    "    return next_action \n",
    "\n",
    "# Exploring the environment \n",
    "def collect_environmental_data(action): \n",
    "    found = [] \n",
    "    if action in police: \n",
    "        found.append('p') \n",
    "    if action in drug_traces: \n",
    "        found.append('d') \n",
    "    return (found) \n",
    "\n",
    "\n",
    "available_action = available_actions(initial_state) \n",
    "action = sample_next_action(available_action) \n",
    "\n",
    "def update(current_state, action, gamma): \n",
    "    max_index = np.where(Q[action, ] == np.max(Q[action, ]))[1] \n",
    "    if max_index.shape[0] > 1: \n",
    "        max_index = int(np.random.choice(max_index, size = 1)) \n",
    "    else: \n",
    "        max_index = int(max_index) \n",
    "    max_value = Q[action, max_index] \n",
    "    Q[current_state, action] = M[current_state, action] + gamma * max_value \n",
    "    environment = collect_environmental_data(action) \n",
    "    if 'p' in environment: \n",
    "        env_police[current_state, action] += 1\n",
    "    if 'd' in environment: \n",
    "        env_drugs[current_state, action] += 1\n",
    "    if (np.max(Q) > 0): \n",
    "        return(np.sum(Q / np.max(Q)*100)) \n",
    "    else: \n",
    "        return (0) \n",
    "# Same as above \n",
    "update(initial_state, action, gamma) \n",
    "\n",
    "def available_actions_with_env_help(state): \n",
    "    current_state_row = M[state, ] \n",
    "    av_action = np.where(current_state_row >= 0)[1] \n",
    "\n",
    "    # if there are multiple routes, dis-favor anything negative \n",
    "    env_pos_row = env_matrix_snap[state, av_action]\n",
    "\n",
    "    if (np.sum(env_pos_row < 0)): \n",
    "        # can we remove the negative directions from av_act? \n",
    "        temp_av_action = av_action[np.array(env_pos_row)[0]>= 0] \n",
    "        if len(temp_av_action) > 0: \n",
    "            av_action = temp_av_action \n",
    "    return av_action \n",
    "# Determines the available actions according to the environment \n"
   ]
  },
  {
   "cell_type": "code",
   "execution_count": 87,
   "metadata": {},
   "outputs": [
    {
     "name": "stdout",
     "output_type": "stream",
     "text": [
      "Police Found\n",
      "[[ 0.  0.  0.  0.  0.  0.  0.  0.  0.  0.  0.]\n",
      " [ 0.  0. 22.  0.  0. 14.  0.  0.  0.  0.  0.]\n",
      " [ 0.  0.  0.  0. 43.  0.  0.  0.  0.  0.  0.]\n",
      " [ 0.  0.  0.  0.  0.  0.  0.  0.  0.  0.  0.]\n",
      " [ 0.  0. 45.  0.  0. 54.  0.  0.  0.  0.  0.]\n",
      " [ 0.  0.  0.  0. 30.  0.  0.  0.  0.  0.  0.]\n",
      " [ 0.  0.  0.  0.  0. 32.  0.  0.  0.  0.  0.]\n",
      " [ 0.  0.  0.  0.  0.  0.  0.  0.  0.  0.  0.]\n",
      " [ 0.  0.  0.  0.  0.  0.  0.  0.  0.  0.  0.]\n",
      " [ 0.  0.  0.  0.  0.  0.  0.  0.  0.  0.  0.]\n",
      " [ 0.  0.  0.  0.  0.  0.  0.  0.  0.  0.  0.]]\n",
      "\n",
      "Drug traces Found\n",
      "[[ 0.  0.  0.  0.  0.  0.  0.  0.  0.  0.  0.]\n",
      " [ 0.  0.  0. 16.  0.  0.  0.  0.  0.  0.  0.]\n",
      " [ 0.  0.  0.  0.  0.  0.  0.  0.  0.  0.  0.]\n",
      " [ 0.  0.  0.  0.  0.  0.  0.  0.  0. 46.  0.]\n",
      " [ 0.  0.  0.  0.  0.  0.  0.  0.  0.  0.  0.]\n",
      " [ 0.  0.  0.  0.  0.  0.  0.  0.  0.  0.  0.]\n",
      " [ 0.  0.  0.  0.  0.  0.  0.  0.  0.  0.  0.]\n",
      " [ 0.  0.  0.  0.  0.  0.  0.  0. 26.  0.  0.]\n",
      " [ 0.  0.  0.  0.  0.  0.  0.  0.  0. 37.  0.]\n",
      " [ 0.  0.  0. 30.  0.  0.  0.  0. 22.  0.  0.]\n",
      " [ 0.  0.  0.  0.  0.  0.  0.  0.  0. 50.  0.]]\n"
     ]
    }
   ],
   "source": [
    "scores = [] \n",
    "for i in range(1000): \n",
    "    current_state = np.random.randint(0, int(Q.shape[0])) \n",
    "    available_action = available_actions(current_state) \n",
    "    action = sample_next_action(available_action) \n",
    "    score = update(current_state, action, gamma) \n",
    "\n",
    "# print environmental matrices \n",
    "print('Police Found') \n",
    "print(env_police) \n",
    "print('') \n",
    "print('Drug traces Found') \n",
    "print(env_drugs) \n"
   ]
  },
  {
   "cell_type": "code",
   "execution_count": 88,
   "metadata": {},
   "outputs": [
    {
     "ename": "TypeError",
     "evalue": "list indices must be integers or slices, not tuple",
     "output_type": "error",
     "traceback": [
      "\u001b[0;31m---------------------------------------------------------------------------\u001b[0m",
      "\u001b[0;31mTypeError\u001b[0m                                 Traceback (most recent call last)",
      "\u001b[0;32m<ipython-input-88-8e93b93d858e>\u001b[0m in \u001b[0;36m<module>\u001b[0;34m\u001b[0m\n\u001b[1;32m      2\u001b[0m \u001b[0;32mfor\u001b[0m \u001b[0mi\u001b[0m \u001b[0;32min\u001b[0m \u001b[0mrange\u001b[0m\u001b[0;34m(\u001b[0m\u001b[0;36m1000\u001b[0m\u001b[0;34m)\u001b[0m\u001b[0;34m:\u001b[0m\u001b[0;34m\u001b[0m\u001b[0;34m\u001b[0m\u001b[0m\n\u001b[1;32m      3\u001b[0m     \u001b[0mcurrent_state\u001b[0m \u001b[0;34m=\u001b[0m \u001b[0mnp\u001b[0m\u001b[0;34m.\u001b[0m\u001b[0mrandom\u001b[0m\u001b[0;34m.\u001b[0m\u001b[0mrandint\u001b[0m\u001b[0;34m(\u001b[0m\u001b[0;36m0\u001b[0m\u001b[0;34m,\u001b[0m \u001b[0mint\u001b[0m\u001b[0;34m(\u001b[0m\u001b[0mQ\u001b[0m\u001b[0;34m.\u001b[0m\u001b[0mshape\u001b[0m\u001b[0;34m[\u001b[0m\u001b[0;36m0\u001b[0m\u001b[0;34m]\u001b[0m\u001b[0;34m)\u001b[0m\u001b[0;34m)\u001b[0m\u001b[0;34m\u001b[0m\u001b[0;34m\u001b[0m\u001b[0m\n\u001b[0;32m----> 4\u001b[0;31m     \u001b[0mavailable_action\u001b[0m \u001b[0;34m=\u001b[0m \u001b[0mavailable_actions_with_env_help\u001b[0m\u001b[0;34m(\u001b[0m\u001b[0mcurrent_state\u001b[0m\u001b[0;34m)\u001b[0m\u001b[0;34m\u001b[0m\u001b[0;34m\u001b[0m\u001b[0m\n\u001b[0m\u001b[1;32m      5\u001b[0m     \u001b[0maction\u001b[0m \u001b[0;34m=\u001b[0m \u001b[0msample_next_action\u001b[0m\u001b[0;34m(\u001b[0m\u001b[0mavailable_action\u001b[0m\u001b[0;34m)\u001b[0m\u001b[0;34m\u001b[0m\u001b[0;34m\u001b[0m\u001b[0m\n\u001b[1;32m      6\u001b[0m     \u001b[0mscore\u001b[0m \u001b[0;34m=\u001b[0m \u001b[0mupdate\u001b[0m\u001b[0;34m(\u001b[0m\u001b[0mcurrent_state\u001b[0m\u001b[0;34m,\u001b[0m \u001b[0maction\u001b[0m\u001b[0;34m,\u001b[0m \u001b[0mgamma\u001b[0m\u001b[0;34m)\u001b[0m\u001b[0;34m\u001b[0m\u001b[0;34m\u001b[0m\u001b[0m\n",
      "\u001b[0;32m<ipython-input-86-6249461c2f14>\u001b[0m in \u001b[0;36mavailable_actions_with_env_help\u001b[0;34m(state)\u001b[0m\n\u001b[1;32m     53\u001b[0m \u001b[0;34m\u001b[0m\u001b[0m\n\u001b[1;32m     54\u001b[0m     \u001b[0;31m# if there are multiple routes, dis-favor anything negative\u001b[0m\u001b[0;34m\u001b[0m\u001b[0;34m\u001b[0m\u001b[0;34m\u001b[0m\u001b[0m\n\u001b[0;32m---> 55\u001b[0;31m     \u001b[0menv_pos_row\u001b[0m \u001b[0;34m=\u001b[0m \u001b[0menv_matrix_snap\u001b[0m\u001b[0;34m[\u001b[0m\u001b[0mstate\u001b[0m\u001b[0;34m,\u001b[0m \u001b[0mav_action\u001b[0m\u001b[0;34m]\u001b[0m\u001b[0;34m\u001b[0m\u001b[0;34m\u001b[0m\u001b[0m\n\u001b[0m\u001b[1;32m     56\u001b[0m \u001b[0;34m\u001b[0m\u001b[0m\n\u001b[1;32m     57\u001b[0m     \u001b[0;32mif\u001b[0m \u001b[0;34m(\u001b[0m\u001b[0mnp\u001b[0m\u001b[0;34m.\u001b[0m\u001b[0msum\u001b[0m\u001b[0;34m(\u001b[0m\u001b[0menv_pos_row\u001b[0m \u001b[0;34m<\u001b[0m \u001b[0;36m0\u001b[0m\u001b[0;34m)\u001b[0m\u001b[0;34m)\u001b[0m\u001b[0;34m:\u001b[0m\u001b[0;34m\u001b[0m\u001b[0;34m\u001b[0m\u001b[0m\n",
      "\u001b[0;31mTypeError\u001b[0m: list indices must be integers or slices, not tuple"
     ]
    }
   ],
   "source": [
    "scores = [] \n",
    "for i in range(1000): \n",
    "    current_state = np.random.randint(0, int(Q.shape[0])) \n",
    "    available_action = available_actions_with_env_help(current_state) \n",
    "    action = sample_next_action(available_action) \n",
    "    score = update(current_state, action, gamma) \n",
    "    scores.append(score) \n",
    "\n",
    "pl.plot(scores) \n",
    "pl.xlabel('Number of iterations') \n",
    "pl.ylabel('Reward gained') \n",
    "pl.show() \n"
   ]
  },
  {
   "cell_type": "code",
   "execution_count": null,
   "metadata": {},
   "outputs": [],
   "source": []
  }
 ],
 "metadata": {
  "kernelspec": {
   "display_name": "Python 3",
   "language": "python",
   "name": "python3"
  },
  "language_info": {
   "codemirror_mode": {
    "name": "ipython",
    "version": 3
   },
   "file_extension": ".py",
   "mimetype": "text/x-python",
   "name": "python",
   "nbconvert_exporter": "python",
   "pygments_lexer": "ipython3",
   "version": "3.7.3"
  }
 },
 "nbformat": 4,
 "nbformat_minor": 2
}
